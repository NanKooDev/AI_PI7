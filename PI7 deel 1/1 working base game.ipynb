{
 "cells": [
  {
   "cell_type": "markdown",
   "metadata": {},
   "source": [
    "# Game class\n",
    "Is the entire gamestate with checks etc."
   ]
  },
  {
   "cell_type": "code",
   "execution_count": 224,
   "metadata": {},
   "outputs": [],
   "source": [
    "class Game():\n",
    "    def __init__(self):\n",
    "        #make a 2 dimensional array of 6 rows and 6 columns\n",
    "        self.board = [[0 for x in range(6)] for y in range(6)] #0 is empty, 1 is player 1, 2 is player 2, 3 is destroyed\n",
    "        self.turn = 1\n",
    "        self.winner = 0\n",
    "        self.moves = 0\n",
    "        \n",
    "    def is_move_valid(self, player_x, player_y, dest_x, dest_y):\n",
    "        #check if destination is empty\n",
    "        if self.board[dest_x][dest_y] != 0:\n",
    "            return False\n",
    "        \n",
    "        #check if destination is in same row or column as player and check if destination is on same diagonal as player\n",
    "        if (player_x != dest_x and player_y != dest_y) and (abs(player_x - dest_x) != abs(player_y - dest_y)):\n",
    "                return False\n",
    "            \n",
    "        #check if there is anohter player or destroyed tile between player and destination\n",
    "        if player_x == dest_x:\n",
    "            for i in range(min(player_y, dest_y) + 1, max(player_y, dest_y)):\n",
    "                if self.board[player_x][i] != 0:\n",
    "                    return False\n",
    "        elif player_y == dest_y:\n",
    "            for i in range(min(player_x, dest_x) + 1, max(player_x, dest_x)):\n",
    "                if self.board[i][player_y] != 0:\n",
    "                    return False\n",
    "        else:\n",
    "            for i in range(1, abs(player_x - dest_x)):\n",
    "                if self.board[player_x + i * (1 if dest_x > player_x else -1)][player_y + i * (1 if dest_y > player_y else -1)] != 0:\n",
    "                    return False\n",
    "        \n",
    "        return True\n",
    "    \n",
    "    def move(self, player_x, player_y, dest_x, dest_y):\n",
    "        if self.is_move_valid(player_x, player_y, dest_x, dest_y):\n",
    "            self.board[dest_x][dest_y] = self.turn #destination is now the player\n",
    "            self.board[player_x][player_y] = 3 #old tile is now destroyed\n",
    "            self.moves += 1 #increment moves\n",
    "            self.turn = 1 if self.turn == 2 else 2 #change turn\n",
    "            return True\n",
    "        else:\n",
    "            return False\n",
    "        \n",
    "    def getplayer(self):\n",
    "        #return x,y of current player in the grid based on the turn\n",
    "        for i in range(6):\n",
    "            for j in range(6):\n",
    "                if self.board[i][j] == self.turn:\n",
    "                    return i, j\n",
    "                \n",
    "    def is_game_over(self):\n",
    "        #check if there are no more moves left for the current player\n",
    "        if len(self.available_moves()) == 0:\n",
    "            self.winner = 1 if self.turn == 2 else 2\n",
    "            return True\n",
    "\n",
    "    def available_moves(self):\n",
    "        #return a list of available moves for the current player\n",
    "        player_x, player_y = self.getplayer()\n",
    "        moves = []\n",
    "        for i in range(6):\n",
    "            for j in range(6):\n",
    "                if self.is_move_valid(player_x, player_y, i, j):\n",
    "                    moves.append((i, j))\n",
    "        return moves"
   ]
  },
  {
   "cell_type": "markdown",
   "metadata": {},
   "source": [
    "# Initialize game"
   ]
  },
  {
   "cell_type": "code",
   "execution_count": 225,
   "metadata": {},
   "outputs": [
    {
     "data": {
      "text/plain": [
       "[[0, 0, 0, 0, 0, 0],\n",
       " [0, 0, 0, 0, 0, 0],\n",
       " [0, 0, 0, 0, 0, 0],\n",
       " [0, 0, 0, 0, 0, 0],\n",
       " [0, 0, 0, 0, 0, 0],\n",
       " [0, 0, 0, 0, 0, 0]]"
      ]
     },
     "execution_count": 225,
     "metadata": {},
     "output_type": "execute_result"
    }
   ],
   "source": [
    "game = Game()\n",
    "game.board"
   ]
  },
  {
   "cell_type": "markdown",
   "metadata": {},
   "source": [
    "# Set players in corners"
   ]
  },
  {
   "cell_type": "code",
   "execution_count": 226,
   "metadata": {},
   "outputs": [
    {
     "data": {
      "text/plain": [
       "[[1, 0, 0, 0, 0, 0],\n",
       " [0, 0, 0, 0, 0, 0],\n",
       " [0, 0, 0, 0, 0, 0],\n",
       " [0, 0, 0, 0, 0, 0],\n",
       " [0, 0, 0, 0, 0, 0],\n",
       " [0, 0, 0, 0, 0, 2]]"
      ]
     },
     "execution_count": 226,
     "metadata": {},
     "output_type": "execute_result"
    }
   ],
   "source": [
    "game.board[0][0] = 1\n",
    "game.board[5][5] = 2\n",
    "game.board"
   ]
  },
  {
   "cell_type": "markdown",
   "metadata": {},
   "source": [
    "# For demonstration purposes\n",
    "Display that players can not go over walls"
   ]
  },
  {
   "cell_type": "code",
   "execution_count": 227,
   "metadata": {},
   "outputs": [
    {
     "data": {
      "text/plain": [
       "[[1, 3, 0, 0, 0, 0],\n",
       " [3, 3, 0, 0, 0, 0],\n",
       " [0, 0, 0, 0, 0, 0],\n",
       " [0, 0, 0, 0, 0, 0],\n",
       " [0, 0, 0, 0, 0, 0],\n",
       " [0, 0, 0, 0, 0, 2]]"
      ]
     },
     "execution_count": 227,
     "metadata": {},
     "output_type": "execute_result"
    }
   ],
   "source": [
    "game.board[1][1] = 3\n",
    "game.board[0][1] = 3\n",
    "game.board[1][0] = 3\n",
    "game.board"
   ]
  },
  {
   "cell_type": "code",
   "execution_count": 228,
   "metadata": {},
   "outputs": [
    {
     "data": {
      "text/plain": [
       "True"
      ]
     },
     "execution_count": 228,
     "metadata": {},
     "output_type": "execute_result"
    }
   ],
   "source": [
    "game.is_game_over()"
   ]
  },
  {
   "cell_type": "code",
   "execution_count": 229,
   "metadata": {},
   "outputs": [
    {
     "data": {
      "text/plain": [
       "[[1, 3, 0, 0, 0, 0],\n",
       " [0, 3, 0, 0, 0, 0],\n",
       " [3, 0, 0, 0, 0, 0],\n",
       " [0, 0, 0, 0, 0, 0],\n",
       " [0, 0, 0, 0, 0, 0],\n",
       " [0, 0, 0, 0, 0, 2]]"
      ]
     },
     "execution_count": 229,
     "metadata": {},
     "output_type": "execute_result"
    }
   ],
   "source": [
    "game.board[1][0] = 0\n",
    "game.board[2][0] = 3\n",
    "game.board"
   ]
  },
  {
   "cell_type": "code",
   "execution_count": 230,
   "metadata": {},
   "outputs": [
    {
     "data": {
      "text/plain": [
       "False"
      ]
     },
     "execution_count": 230,
     "metadata": {},
     "output_type": "execute_result"
    }
   ],
   "source": [
    "game.is_game_over()"
   ]
  },
  {
   "cell_type": "code",
   "execution_count": 231,
   "metadata": {},
   "outputs": [
    {
     "data": {
      "text/plain": [
       "[(1, 0)]"
      ]
     },
     "execution_count": 231,
     "metadata": {},
     "output_type": "execute_result"
    }
   ],
   "source": [
    "game.available_moves()"
   ]
  }
 ],
 "metadata": {
  "kernelspec": {
   "display_name": "Python 3",
   "language": "python",
   "name": "python3"
  },
  "language_info": {
   "codemirror_mode": {
    "name": "ipython",
    "version": 3
   },
   "file_extension": ".py",
   "mimetype": "text/x-python",
   "name": "python",
   "nbconvert_exporter": "python",
   "pygments_lexer": "ipython3",
   "version": "3.11.8"
  }
 },
 "nbformat": 4,
 "nbformat_minor": 2
}
